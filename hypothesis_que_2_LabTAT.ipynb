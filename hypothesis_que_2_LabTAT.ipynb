{
  "cells": [
    {
      "cell_type": "markdown",
      "id": "b71ac4e1",
      "metadata": {
        "id": "b71ac4e1"
      },
      "source": [
        "# Que 2. A hospital wants to determine whether there is any difference in the average Turn Around Time (TAT) of reports of the laboratories on their preferred list. They collected a random sample and recorded TAT for reports of 4 laboratories. TAT is defined as sample collected to report dispatch. Analyze the data and determine whether there is any difference in average TAT among the different laboratories at 5% significance level."
      ]
    },
    {
      "cell_type": "code",
      "execution_count": 28,
      "id": "21a9861a",
      "metadata": {
        "ExecuteTime": {
          "end_time": "2021-12-08T10:22:31.132978Z",
          "start_time": "2021-12-08T10:22:30.553944Z"
        },
        "id": "21a9861a"
      },
      "outputs": [],
      "source": [
        "import pandas as pd "
      ]
    },
    {
      "cell_type": "code",
      "execution_count": 29,
      "id": "c7ced5ff",
      "metadata": {
        "ExecuteTime": {
          "end_time": "2021-12-08T10:22:31.180911Z",
          "start_time": "2021-12-08T10:22:31.136934Z"
        },
        "id": "c7ced5ff"
      },
      "outputs": [],
      "source": [
        "df=pd.read_csv(\"/content/LabTAT.csv\")"
      ]
    },
    {
      "cell_type": "markdown",
      "source": [
        "As there are more than 2 samples here we use anova test to find weather there is difference between \n",
        "different laboratories.\n",
        "\n",
        "H0:L1=L2=L3=L4\n",
        "\n",
        "HA:Atleat one mean is diffenrent \n",
        "\n",
        "There are no significant differences between the groups  H0:L1=L2=L3=L4\n",
        "\n",
        "There is a significant difference between the groups Ha:L1!=L2!=L3!=L4\n",
        "\n",
        "Here we use anova test"
      ],
      "metadata": {
        "id": "oMek7wd1PN8U"
      },
      "id": "oMek7wd1PN8U"
    },
    {
      "cell_type": "code",
      "execution_count": 30,
      "id": "e240652e",
      "metadata": {
        "ExecuteTime": {
          "end_time": "2021-12-08T10:22:34.880001Z",
          "start_time": "2021-12-08T10:22:33.248033Z"
        },
        "colab": {
          "base_uri": "https://localhost:8080/"
        },
        "id": "e240652e",
        "outputId": "6ecfcd0b-0777-4fef-a6ec-6c6584f32450"
      },
      "outputs": [
        {
          "output_type": "execute_result",
          "data": {
            "text/plain": [
              "F_onewayResult(statistic=118.70421654401437, pvalue=2.1156708949992414e-57)"
            ]
          },
          "metadata": {},
          "execution_count": 30
        }
      ],
      "source": [
        "# apply Anova test \n",
        "from scipy import stats\n",
        "pvalue=stats.f_oneway(df.iloc[:,0],df.iloc[:,1],df.iloc[:,2],df.iloc[:,3])\n",
        "pvalue"
      ]
    },
    {
      "cell_type": "code",
      "source": [
        "pvalue[1]"
      ],
      "metadata": {
        "colab": {
          "base_uri": "https://localhost:8080/"
        },
        "id": "Yhx15YkaSr8S",
        "outputId": "808ff22a-0fb1-4472-ecef-61dfc4312aec"
      },
      "id": "Yhx15YkaSr8S",
      "execution_count": 31,
      "outputs": [
        {
          "output_type": "execute_result",
          "data": {
            "text/plain": [
              "2.1156708949992414e-57"
            ]
          },
          "metadata": {},
          "execution_count": 31
        }
      ]
    },
    {
      "cell_type": "code",
      "execution_count": 32,
      "id": "b4c12aaa",
      "metadata": {
        "ExecuteTime": {
          "end_time": "2021-12-08T10:22:38.560025Z",
          "start_time": "2021-12-08T10:22:35.819177Z"
        },
        "id": "b4c12aaa"
      },
      "outputs": [],
      "source": [
        "# p-value is less than 0.05 aplpha so we accept null hypothesis"
      ]
    },
    {
      "cell_type": "markdown",
      "source": [
        "\n",
        "#The p value is less than 0.05(significance level) \n",
        "\n",
        "#as p is low we accept the null hypothesis\n",
        "\n",
        "#It states that H0:L1=L2=L3=L4\n",
        "\n",
        "# There are no significant differences between the groups \n"
      ],
      "metadata": {
        "id": "qPvAp38sTBUf"
      },
      "id": "qPvAp38sTBUf"
    }
  ],
  "metadata": {
    "kernelspec": {
      "display_name": "Python 3",
      "language": "python",
      "name": "python3"
    },
    "language_info": {
      "codemirror_mode": {
        "name": "ipython",
        "version": 3
      },
      "file_extension": ".py",
      "mimetype": "text/x-python",
      "name": "python",
      "nbconvert_exporter": "python",
      "pygments_lexer": "ipython3",
      "version": "3.8.8"
    },
    "colab": {
      "name": "hypothesis que 2 LabTAT.ipynb",
      "provenance": []
    }
  },
  "nbformat": 4,
  "nbformat_minor": 5
}